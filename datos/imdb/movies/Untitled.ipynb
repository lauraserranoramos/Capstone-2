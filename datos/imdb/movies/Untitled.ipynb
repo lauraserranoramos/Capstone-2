{
 "cells": [
  {
   "cell_type": "code",
   "execution_count": null,
   "id": "72015edc-ddaa-4f1d-9532-f7efebdc3112",
   "metadata": {},
   "outputs": [],
   "source": [
    "def get_basics_df():\n",
    "    \"\"\"\n",
    "    Este método devuelve un dataframe con los datos de todas las películas contenidas en el fichero\n",
    "    movies-json.zip\n",
    "    \"\"\"\n",
    "    path = 'datos/imdb/movies/' \n",
    "\n",
    "    jsons = os.path.join(path,'*.json')\n",
    "    files = glob.glob(jsons)\n",
    "\n",
    "    dfs = []\n",
    "    for file in files:\n",
    "        with open(file) as f:\n",
    "            json_data = pd.json_normalize(json.loads(f.read()))\n",
    "        dfs.append(json_data)\n",
    "    df = pd.concat(dfs, sort=False)\n",
    "    return df.set_index([\"id\"])"
   ]
  }
 ],
 "metadata": {
  "kernelspec": {
   "display_name": "Python 3 (ipykernel)",
   "language": "python",
   "name": "python3"
  },
  "language_info": {
   "codemirror_mode": {
    "name": "ipython",
    "version": 3
   },
   "file_extension": ".py",
   "mimetype": "text/x-python",
   "name": "python",
   "nbconvert_exporter": "python",
   "pygments_lexer": "ipython3",
   "version": "3.8.15"
  }
 },
 "nbformat": 4,
 "nbformat_minor": 5
}
